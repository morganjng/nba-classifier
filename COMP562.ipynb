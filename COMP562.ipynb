{
 "cells": [
  {
   "cell_type": "markdown",
   "metadata": {},
   "source": [
    "# NBA Statistic Predictor\n"
   ]
  },
  {
   "cell_type": "code",
   "execution_count": null,
   "metadata": {
    "id": "hLbjgX09Oa40"
   },
   "outputs": [],
   "source": [
    "import numpy as np\n",
    "import random\n",
    "import pandas as pd\n",
    "import torch\n",
    "import torch.nn as nn\n",
    "import torch.optim as optim\n",
    "import matplotlib.pyplot as plt"
   ]
  },
  {
   "cell_type": "markdown",
   "metadata": {
    "id": "Ttn-Z0s0W0Ai"
   },
   "source": [
    "## Abbreviation key\n",
    "| Name | Description |\n",
    "| :-- | :----: |\n",
    "| gp | games played\n",
    "| net_rating | offRating - defRating\n",
    "| offRating | 100*((points)/num_possesions)\n",
    "| defRating | 100*((opp points/(opponents_num_possesions)))\n",
    "| oreb_pct | offensive rebound percentage\n",
    "| usg_pct | percentage of team plays utilized by a player while they are in the game\n",
    "| ts_pct | true shooting percentage;  percentage of shots made factoring in threes and free throws.  \n",
    "| ast_ptg | assist percentage; percent of field goals (2 or 3 point shots not including free throws) \n",
    "\n",
    "\n",
    "\n"
   ]
  },
  {
   "cell_type": "code",
   "execution_count": 2,
   "metadata": {
    "colab": {
     "base_uri": "https://localhost:8080/"
    },
    "id": "g07GetHTUoXW",
    "outputId": "629c1d17-7b99-4952-d458-3bdbd622e7e5"
   },
   "outputs": [],
   "source": [
    "# !wget https://github.com/morganjng/nba-classifier/blob/main/all_seasons.csv\n",
    "csv = pd.read_csv(\"all_seasons.csv\")"
   ]
  },
  {
   "cell_type": "code",
   "execution_count": 3,
   "metadata": {
    "colab": {
     "base_uri": "https://localhost:8080/"
    },
    "id": "9HggkbrXVPrQ",
    "outputId": "afc6e8b4-6abc-414f-ee33-ab53851e50a7"
   },
   "outputs": [
    {
     "name": "stdout",
     "output_type": "stream",
     "text": [
      "Index(['Unnamed: 0', 'player_name', 'team_abbreviation', 'age',\n",
      "       'player_height', 'player_weight', 'college', 'country', 'draft_year',\n",
      "       'draft_round', 'draft_number', 'gp', 'pts', 'reb', 'ast', 'net_rating',\n",
      "       'oreb_pct', 'dreb_pct', 'usg_pct', 'ts_pct', 'ast_pct', 'season'],\n",
      "      dtype='object') 11700\n"
     ]
    }
   ],
   "source": [
    "total_players = len(csv[\"player_name\"])\n",
    "print(csv.columns, total_players)"
   ]
  },
  {
   "cell_type": "markdown",
   "metadata": {},
   "source": [
    "## Pre-processsing the dataset\n",
    "### Building a function to return one-hot vectors for string entries in data"
   ]
  },
  {
   "cell_type": "code",
   "execution_count": 4,
   "metadata": {
    "colab": {
     "base_uri": "https://localhost:8080/"
    },
    "id": "IcbTc_xTnL3M",
    "outputId": "f7da51dc-b84f-41e8-e61e-e61ae88881a2"
   },
   "outputs": [],
   "source": [
    "colleges = []\n",
    "countries = []\n",
    "years = []\n",
    "seasons = []\n",
    "teams = []\n",
    "for i in range(0, total_players):\n",
    "    if(csv[\"college\"][i] not in colleges):\n",
    "        colleges.append(csv[\"college\"][i])\n",
    "    if(csv[\"country\"][i] not in countries):\n",
    "        countries.append(csv[\"country\"][i])\n",
    "    if(csv[\"draft_year\"][i] not in colleges):\n",
    "        years.append(csv[\"draft_year\"][i])\n",
    "    if(csv[\"season\"][i] not in seasons):\n",
    "        seasons.append(csv[\"season\"][i])\n",
    "    if(csv[\"team_abbreviation\"][i] not in teams):\n",
    "        teams.append(csv[\"team_abbreviation\"][i])\n",
    "# print(colleges, countries, years, seasons, teams)\n",
    "\n",
    "def one_hot(value, array):\n",
    "    v = [0 for i in range(len(array))]\n",
    "    v[array.index(value)] = 1\n",
    "    return torch.Tensor(v)"
   ]
  },
  {
   "cell_type": "markdown",
   "metadata": {},
   "source": [
    "### Handling n/a entries in the table"
   ]
  },
  {
   "cell_type": "code",
   "execution_count": 5,
   "metadata": {
    "colab": {
     "base_uri": "https://localhost:8080/"
    },
    "id": "RvnWL8J0yCJq",
    "outputId": "9ace3917-5648-4a74-f410-2d492979233e"
   },
   "outputs": [
    {
     "name": "stdout",
     "output_type": "stream",
     "text": [
      "1.3026233603997501 21.783007080383175\n"
     ]
    },
    {
     "name": "stderr",
     "output_type": "stream",
     "text": [
      "/tmp/ipykernel_11817/2896530013.py:19: SettingWithCopyWarning: \n",
      "A value is trying to be set on a copy of a slice from a DataFrame\n",
      "\n",
      "See the caveats in the documentation: https://pandas.pydata.org/pandas-docs/stable/user_guide/indexing.html#returning-a-view-versus-a-copy\n",
      "  csv[\"draft_number\"][i] = mean_number\n",
      "/tmp/ipykernel_11817/2896530013.py:21: SettingWithCopyWarning: \n",
      "A value is trying to be set on a copy of a slice from a DataFrame\n",
      "\n",
      "See the caveats in the documentation: https://pandas.pydata.org/pandas-docs/stable/user_guide/indexing.html#returning-a-view-versus-a-copy\n",
      "  csv[\"draft_round\"][i] = mean_round\n"
     ]
    }
   ],
   "source": [
    "sum_round = 0\n",
    "count_round = 0\n",
    "sum_number = 0\n",
    "count_number = 0\n",
    "for i in range(0, total_players):\n",
    "    if(csv[\"draft_number\"][i] != \"Undrafted\"):\n",
    "        sum_number += int(csv[\"draft_number\"][i])\n",
    "        count_number += 1\n",
    "    if(csv[\"draft_round\"][i] != \"Undrafted\"):\n",
    "        sum_round += int(csv[\"draft_round\"][i])\n",
    "        count_round += 1\n",
    "\n",
    "mean_round = sum_round / count_round\n",
    "mean_number = sum_number / count_number\n",
    "print(mean_round, mean_number)\n",
    "\n",
    "for i in range(0, total_players):\n",
    "    if(csv[\"draft_number\"][i] == \"Undrafted\"):\n",
    "        csv[\"draft_number\"][i] = mean_number\n",
    "    if(csv[\"draft_round\"][i] == \"Undrafted\"):\n",
    "        csv[\"draft_round\"][i] = mean_round"
   ]
  },
  {
   "cell_type": "markdown",
   "metadata": {
    "id": "cB2uQ3dqZBfV"
   },
   "source": [
    "### Defining a function to split up our data randomly"
   ]
  },
  {
   "cell_type": "code",
   "execution_count": 6,
   "metadata": {
    "id": "EcBguZmQVkO0"
   },
   "outputs": [],
   "source": [
    "def random_split(test_percent, valid_percent):\n",
    "    test_amount = int(total_players * test_percent)\n",
    "    valid_amount = int(total_players * valid_percent)\n",
    "    valid_sample = random.sample(range(0,total_players), test_amount + valid_amount)\n",
    "    test_sample = []\n",
    "    for i in range(test_amount):\n",
    "        test_sample.append(valid_sample.pop(0))\n",
    "    train_sample = [i for i in range(0, total_players)]\n",
    "    test_x = []\n",
    "    test_y = []\n",
    "    train_x = []\n",
    "    train_y = []\n",
    "    valid_x = []\n",
    "    valid_y = []\n",
    "    for idx in valid_sample:\n",
    "        train_sample.remove(idx)\n",
    "    for idx in test_sample:\n",
    "        train_sample.remove(idx)\n",
    "    print(\"Total: %d, Train: %d, Test: %d, Valid: %d\" % (total_players, len(train_sample), len(test_sample), len(valid_sample)))\n",
    "    for idx in test_sample:\n",
    "        test_x.append([one_hot(csv[\"team_abbreviation\"][idx], teams), one_hot(csv[\"college\"][idx], colleges), one_hot(csv[\"country\"][idx], countries),\n",
    "                   one_hot(csv[\"draft_year\"][idx], years), one_hot(csv[\"season\"][idx], seasons), float(csv[\"age\"][idx]),\n",
    "                   float(csv[\"player_height\"][idx]), float(csv[\"player_weight\"][idx]), float(csv[\"draft_round\"][idx]), float(csv[\"draft_number\"][idx]),\n",
    "                   float(csv[\"gp\"][idx]), float(csv[\"net_rating\"][idx]), float(csv[\"usg_pct\"][idx])])\n",
    "        test_y.append(torch.Tensor([float(csv[\"pts\"][idx]), float(csv[\"reb\"][idx]),\n",
    "                   float(csv[\"ast\"][idx]), float(csv[\"oreb_pct\"][idx]), float(csv[\"dreb_pct\"][idx]), float(csv[\"ts_pct\"][idx]), float(csv[\"ast_pct\"][idx])]))\n",
    "    for idx in train_sample:\n",
    "        train_x.append([one_hot(csv[\"team_abbreviation\"][idx], teams), one_hot(csv[\"college\"][idx], colleges), one_hot(csv[\"country\"][idx], countries),\n",
    "                   one_hot(csv[\"draft_year\"][idx], years), one_hot(csv[\"season\"][idx], seasons), float(csv[\"age\"][idx]),\n",
    "                   float(csv[\"player_height\"][idx]), float(csv[\"player_weight\"][idx]), float(csv[\"draft_round\"][idx]), float(csv[\"draft_number\"][idx]),\n",
    "                   float(csv[\"gp\"][idx]), float(csv[\"net_rating\"][idx]), float(csv[\"usg_pct\"][idx])])\n",
    "        train_y.append(torch.Tensor([float(csv[\"pts\"][idx]), float(csv[\"reb\"][idx]),\n",
    "                   float(csv[\"ast\"][idx]), float(csv[\"oreb_pct\"][idx]), float(csv[\"dreb_pct\"][idx]), float(csv[\"ts_pct\"][idx]), float(csv[\"ast_pct\"][idx])]))\n",
    "    for idx in valid_sample:\n",
    "        valid_x.append([one_hot(csv[\"team_abbreviation\"][idx], teams), one_hot(csv[\"college\"][idx], colleges), one_hot(csv[\"country\"][idx], countries),\n",
    "                   one_hot(csv[\"draft_year\"][idx], years), one_hot(csv[\"season\"][idx], seasons), float(csv[\"age\"][idx]),\n",
    "                   float(csv[\"player_height\"][idx]), float(csv[\"player_weight\"][idx]), float(csv[\"draft_round\"][idx]), float(csv[\"draft_number\"][idx]),\n",
    "                   float(csv[\"gp\"][idx]), float(csv[\"net_rating\"][idx]), float(csv[\"usg_pct\"][idx])])\n",
    "        valid_y.append(torch.Tensor([float(csv[\"pts\"][idx]), float(csv[\"reb\"][idx]),\n",
    "                   float(csv[\"ast\"][idx]), float(csv[\"oreb_pct\"][idx]), float(csv[\"dreb_pct\"][idx]), float(csv[\"ts_pct\"][idx]), float(csv[\"ast_pct\"][idx])]))\n",
    "    return train_x, train_y, test_x, test_y, valid_x, valid_y"
   ]
  },
  {
   "cell_type": "code",
   "execution_count": 7,
   "metadata": {
    "colab": {
     "base_uri": "https://localhost:8080/"
    },
    "id": "ETNQDbVTtHJR",
    "outputId": "a4b9b9ee-4ac3-4de3-b95e-d7be20b239cc"
   },
   "outputs": [
    {
     "name": "stdout",
     "output_type": "stream",
     "text": [
      "Total: 11700, Train: 9360, Test: 1170, Valid: 1170\n",
      "CPU times: user 9.47 s, sys: 142 ms, total: 9.61 s\n",
      "Wall time: 9.59 s\n"
     ]
    }
   ],
   "source": [
    "%time train_x, train_y, test_x, test_y, valid_x, valid_y = random_split(0.1, 0.1)"
   ]
  },
  {
   "cell_type": "markdown",
   "metadata": {
    "id": "KXJsCq65ZWKm"
   },
   "source": [
    "## Training and test function"
   ]
  },
  {
   "cell_type": "code",
   "execution_count": 19,
   "metadata": {},
   "outputs": [],
   "source": [
    "def train(neural_net, optimizer, loss, scheduler, train_features, train_labels, valid_features, valid_labels, epochs, batch_size, dropout=False):\n",
    "    xs = [i for i in range(epochs)]\n",
    "    ys = []\n",
    "    for epoch in range(epochs):\n",
    "        print(\"Starting epoch: \" + str(epoch))\n",
    "        count = 0\n",
    "        rl = 0.0\n",
    "        neural_net.train()\n",
    "        optimizer.zero_grad()\n",
    "        for i in range(len(train_labels)):\n",
    "            train_y = train_labels[i]\n",
    "            train_x = train_features[i]\n",
    "            output = neural_net(train_x)\n",
    "            out_loss = loss(output, train_y)\n",
    "            out_loss.backward()\n",
    "            optimizer.step()\n",
    "            count += 1\n",
    "            rl += out_loss.item() / float(len(train_labels))\n",
    "            if count % batch_size == 0:\n",
    "                optimizer.zero_grad()\n",
    "                # print(str(count) + \" entries completed. Loss: \" + str(rl/batch_size))\n",
    "                #rl = 0.0\n",
    "        scheduler.step()\n",
    "        epoch_loss = 0.0\n",
    "        neural_net.eval()\n",
    "        for i in range(len(valid_labels)):\n",
    "            valid_y = valid_labels[i]\n",
    "            valid_x = valid_features[i]\n",
    "            output = neural_net(valid_x)\n",
    "            epoch_loss += loss(output, valid_y)/float(len(valid_labels))\n",
    "        ys.append(epoch_loss)\n",
    "        print( (\"Epoch %d ended with total avg. loss \" + str(rl) ) % epoch)\n",
    "    return xs, ys\n",
    "\n",
    "def test(neural, test_x, test_y):\n",
    "    l = []\n",
    "    x = []\n",
    "    neural.eval()\n",
    "    for i in range(len(test_x)):\n",
    "        l.append(loss(neural(test_x[i]), test_y[i]).item())\n",
    "        x.append(i)\n",
    "    plt.hist(l, range(0,25))"
   ]
  },
  {
   "cell_type": "code",
   "execution_count": 20,
   "metadata": {
    "id": "o3lRDT7abczZ"
   },
   "outputs": [],
   "source": [
    "class NeuralNet(nn.Module):\n",
    "    def __init__(self):\n",
    "        super().__init__()\n",
    "        self.teamLin = nn.Linear(len(teams), 1)\n",
    "        self.collegeLin = nn.Linear(len(colleges), 1)\n",
    "        self.countryLin = nn.Linear(len(countries), 1)\n",
    "        self.draftLin = nn.Linear(len(years), 1)\n",
    "        self.seasonLin = nn.Linear(len(seasons), 1)\n",
    "        self.sequential = nn.Sequential(\n",
    "            nn.Linear(13, 20),\n",
    "            nn.Dropout(p=0.2),\n",
    "            nn.Linear(20, 40),\n",
    "            nn.Dropout(p=0.2),\n",
    "            nn.Linear(40, 40),\n",
    "            nn.Dropout(p=0.2),\n",
    "            nn.Linear(40, 40),\n",
    "            nn.Dropout(p=0.2),\n",
    "            nn.Linear(40, 20),\n",
    "            nn.Dropout(p=0.2),\n",
    "            nn.Linear(20, 7),\n",
    "        )\n",
    "\n",
    "    def forward(self, x):\n",
    "        x = torch.Tensor([self.teamLin(x[0]), self.collegeLin(x[1]), self.countryLin(x[2]), self.draftLin(x[3]), self.seasonLin(x[4])] + x[5:])\n",
    "        return self.sequential(x)"
   ]
  },
  {
   "cell_type": "code",
   "execution_count": 21,
   "metadata": {
    "id": "5iMAYklzpqVI"
   },
   "outputs": [],
   "source": [
    "class LinearNet(nn.Module):\n",
    "    def __init__(self):\n",
    "        super().__init__()\n",
    "        self.teamLin = nn.Linear(len(teams), 1)\n",
    "        self.collegeLin = nn.Linear(len(colleges), 1)\n",
    "        self.countryLin = nn.Linear(len(countries), 1)\n",
    "        self.draftLin = nn.Linear(len(years), 1)\n",
    "        self.seasonLin = nn.Linear(len(seasons), 1)\n",
    "        self.sequential = nn.Sequential(\n",
    "            nn.Linear(13, 7)\n",
    "        )\n",
    "\n",
    "    def forward(self, x):\n",
    "        x = torch.Tensor([self.teamLin(x[0]), self.collegeLin(x[1]), self.countryLin(x[2]), self.draftLin(x[3]), self.seasonLin(x[4])] + x[5:])\n",
    "        return self.sequential(x)"
   ]
  },
  {
   "cell_type": "code",
   "execution_count": 22,
   "metadata": {
    "id": "iXGBUuFtbeyq"
   },
   "outputs": [],
   "source": [
    "neural = NeuralNet()\n",
    "linnet = LinearNet()\n",
    "loss = nn.MSELoss()\n",
    "lin_loss = nn.MSELoss()\n",
    "lin_optim = optim.Adam(linnet.parameters())\n",
    "optimizer = optim.Adam(neural.parameters())\n",
    "lin_scheduler = optim.lr_scheduler.ExponentialLR(lin_optim, gamma=0.9)\n",
    "n_scheduler = optim.lr_scheduler.ExponentialLR(optimizer, gamma=0.9)"
   ]
  },
  {
   "cell_type": "code",
   "execution_count": 23,
   "metadata": {},
   "outputs": [
    {
     "name": "stdout",
     "output_type": "stream",
     "text": [
      "Starting epoch: 0\n",
      "Epoch 0 ended with total avg. loss 362272.7581694125\n",
      "Starting epoch: 1\n",
      "Epoch 1 ended with total avg. loss 30.13148351686044\n",
      "Starting epoch: 2\n",
      "Epoch 2 ended with total avg. loss 1601353.7599444003\n",
      "Starting epoch: 3\n",
      "Epoch 3 ended with total avg. loss 1294.5593992274155\n",
      "Starting epoch: 4\n",
      "Epoch 4 ended with total avg. loss 737405.076897671\n",
      "Starting epoch: 5\n",
      "Epoch 5 ended with total avg. loss 4739.828675899693\n",
      "Starting epoch: 6\n",
      "Epoch 6 ended with total avg. loss 24587.50367499105\n",
      "Starting epoch: 7\n",
      "Epoch 7 ended with total avg. loss 57466.93056110748\n",
      "Starting epoch: 8\n",
      "Epoch 8 ended with total avg. loss 246.0151859074621\n",
      "Starting epoch: 9\n",
      "Epoch 9 ended with total avg. loss 11.946996641467846\n",
      "Starting epoch: 10\n",
      "Epoch 10 ended with total avg. loss 26.48012758214146\n",
      "Starting epoch: 11\n",
      "Epoch 11 ended with total avg. loss 18.815280624160895\n",
      "Starting epoch: 12\n",
      "Epoch 12 ended with total avg. loss 6.379917258429379\n",
      "Starting epoch: 13\n",
      "Epoch 13 ended with total avg. loss 8.532317890414623\n",
      "Starting epoch: 14\n",
      "Epoch 14 ended with total avg. loss 5.918174685307194\n",
      "Starting epoch: 15\n",
      "Epoch 15 ended with total avg. loss 5.7983641916531825\n",
      "Starting epoch: 16\n",
      "Epoch 16 ended with total avg. loss 5.876427302853591\n",
      "Starting epoch: 17\n",
      "Epoch 17 ended with total avg. loss 5.7025814633635425\n",
      "Starting epoch: 18\n",
      "Epoch 18 ended with total avg. loss 5.440941312084178\n",
      "Starting epoch: 19\n",
      "Epoch 19 ended with total avg. loss 5.264186032592618\n",
      "Starting epoch: 20\n",
      "Epoch 20 ended with total avg. loss 5.163715342719393\n",
      "Starting epoch: 21\n",
      "Epoch 21 ended with total avg. loss 5.0226392439731065\n",
      "Starting epoch: 22\n",
      "Epoch 22 ended with total avg. loss 5.032162450716232\n",
      "Starting epoch: 23\n",
      "Epoch 23 ended with total avg. loss 5.073775502595163\n",
      "Starting epoch: 24\n",
      "Epoch 24 ended with total avg. loss 4.910448935809621\n",
      "Starting epoch: 25\n",
      "Epoch 25 ended with total avg. loss 4.933893364437552\n",
      "Starting epoch: 26\n",
      "Epoch 26 ended with total avg. loss 4.827909482346213\n",
      "Starting epoch: 27\n",
      "Epoch 27 ended with total avg. loss 4.623791491804623\n",
      "Starting epoch: 28\n",
      "Epoch 28 ended with total avg. loss 4.594578110123997\n",
      "Starting epoch: 29\n",
      "Epoch 29 ended with total avg. loss 4.491441009861779\n",
      "Starting epoch: 30\n",
      "Epoch 30 ended with total avg. loss 4.328721689743273\n",
      "Starting epoch: 31\n",
      "Epoch 31 ended with total avg. loss 4.166217207571287\n",
      "Starting epoch: 32\n",
      "Epoch 32 ended with total avg. loss 4.0585981960224355\n",
      "Starting epoch: 33\n",
      "Epoch 33 ended with total avg. loss 3.8870023794186728\n",
      "Starting epoch: 34\n",
      "Epoch 34 ended with total avg. loss 3.846795828533419\n",
      "Starting epoch: 35\n",
      "Epoch 35 ended with total avg. loss 3.7733621754370663\n",
      "Starting epoch: 36\n",
      "Epoch 36 ended with total avg. loss 3.6325611719951763\n",
      "Starting epoch: 37\n",
      "Epoch 37 ended with total avg. loss 3.640063641832868\n",
      "Starting epoch: 38\n",
      "Epoch 38 ended with total avg. loss 3.5414365899671\n",
      "Starting epoch: 39\n",
      "Epoch 39 ended with total avg. loss 3.4501469229889197\n",
      "Starting epoch: 40\n",
      "Epoch 40 ended with total avg. loss 3.376557953769578\n",
      "Starting epoch: 41\n",
      "Epoch 41 ended with total avg. loss 3.3099809482327034\n",
      "Starting epoch: 42\n",
      "Epoch 42 ended with total avg. loss 3.251912594757352\n",
      "Starting epoch: 43\n",
      "Epoch 43 ended with total avg. loss 3.1923156736284755\n",
      "Starting epoch: 44\n",
      "Epoch 44 ended with total avg. loss 3.138023678587807\n",
      "Starting epoch: 45\n",
      "Epoch 45 ended with total avg. loss 3.1464849108305684\n",
      "Starting epoch: 46\n",
      "Epoch 46 ended with total avg. loss 3.14834170032754\n",
      "Starting epoch: 47\n",
      "Epoch 47 ended with total avg. loss 3.077249481518809\n",
      "Starting epoch: 48\n",
      "Epoch 48 ended with total avg. loss 3.035401164285235\n",
      "Starting epoch: 49\n",
      "Epoch 49 ended with total avg. loss 3.0258920407894725\n",
      "Starting epoch: 50\n",
      "Epoch 50 ended with total avg. loss 2.996225168416231\n",
      "Starting epoch: 51\n",
      "Epoch 51 ended with total avg. loss 3.0095776797927964\n",
      "Starting epoch: 52\n",
      "Epoch 52 ended with total avg. loss 2.984951323953613\n",
      "Starting epoch: 53\n",
      "Epoch 53 ended with total avg. loss 2.9480596529728493\n",
      "Starting epoch: 54\n",
      "Epoch 54 ended with total avg. loss 2.9979451561017942\n",
      "Starting epoch: 55\n",
      "Epoch 55 ended with total avg. loss 2.961839720057758\n",
      "Starting epoch: 56\n",
      "Epoch 56 ended with total avg. loss 2.952257679163286\n",
      "Starting epoch: 57\n",
      "Epoch 57 ended with total avg. loss 2.9865909654220557\n",
      "Starting epoch: 58\n",
      "Epoch 58 ended with total avg. loss 2.9672090054104228\n",
      "Starting epoch: 59\n",
      "Epoch 59 ended with total avg. loss 2.9332065065640713\n",
      "Starting epoch: 60\n",
      "Epoch 60 ended with total avg. loss 2.9171712735352826\n",
      "Starting epoch: 61\n",
      "Epoch 61 ended with total avg. loss 2.92534857988155\n",
      "Starting epoch: 62\n",
      "Epoch 62 ended with total avg. loss 2.955806676032141\n",
      "Starting epoch: 63\n",
      "Epoch 63 ended with total avg. loss 2.972040763888095\n",
      "Starting epoch: 64\n",
      "Epoch 64 ended with total avg. loss 2.9454986436845614\n",
      "Starting epoch: 65\n",
      "Epoch 65 ended with total avg. loss 2.9435924727344887\n",
      "Starting epoch: 66\n",
      "Epoch 66 ended with total avg. loss 2.9730195718543913\n",
      "Starting epoch: 67\n",
      "Epoch 67 ended with total avg. loss 2.9686334838329613\n",
      "Starting epoch: 68\n",
      "Epoch 68 ended with total avg. loss 2.9420861259526494\n",
      "Starting epoch: 69\n",
      "Epoch 69 ended with total avg. loss 2.982754548184733\n",
      "Starting epoch: 70\n",
      "Epoch 70 ended with total avg. loss 2.9769620816606865\n",
      "Starting epoch: 71\n",
      "Epoch 71 ended with total avg. loss 2.9843631888259203\n",
      "Starting epoch: 72\n",
      "Epoch 72 ended with total avg. loss 2.9260083976482476\n",
      "Starting epoch: 73\n",
      "Epoch 73 ended with total avg. loss 2.958023756386983\n",
      "Starting epoch: 74\n",
      "Epoch 74 ended with total avg. loss 2.9340332316124274\n",
      "Starting epoch: 75\n",
      "Epoch 75 ended with total avg. loss 2.970412038386304\n",
      "Starting epoch: 76\n",
      "Epoch 76 ended with total avg. loss 3.001273315680432\n",
      "Starting epoch: 77\n",
      "Epoch 77 ended with total avg. loss 2.9730559744986427\n",
      "Starting epoch: 78\n",
      "Epoch 78 ended with total avg. loss 2.9586272937929117\n",
      "Starting epoch: 79\n",
      "Epoch 79 ended with total avg. loss 2.992721402178987\n",
      "Starting epoch: 80\n",
      "Epoch 80 ended with total avg. loss 3.0270668395945193\n",
      "Starting epoch: 81\n",
      "Epoch 81 ended with total avg. loss 2.9816072334832366\n",
      "Starting epoch: 82\n",
      "Epoch 82 ended with total avg. loss 2.9619733380687903\n",
      "Starting epoch: 83\n",
      "Epoch 83 ended with total avg. loss 2.965065170877547\n",
      "Starting epoch: 84\n",
      "Epoch 84 ended with total avg. loss 2.962175864116074\n",
      "Starting epoch: 85\n",
      "Epoch 85 ended with total avg. loss 2.9755210692407155\n",
      "Starting epoch: 86\n",
      "Epoch 86 ended with total avg. loss 2.956298404071578\n",
      "Starting epoch: 87\n",
      "Epoch 87 ended with total avg. loss 2.9961066261227343\n",
      "Starting epoch: 88\n",
      "Epoch 88 ended with total avg. loss 2.9442017527336954\n",
      "Starting epoch: 89\n",
      "Epoch 89 ended with total avg. loss 2.9795138686675755\n"
     ]
    }
   ],
   "source": [
    "xs, ys = train(neural, optimizer, loss, n_scheduler, train_x, train_y, valid_x, valid_y, 90, 200)"
   ]
  },
  {
   "cell_type": "code",
   "execution_count": 25,
   "metadata": {
    "scrolled": true
   },
   "outputs": [
    {
     "data": {
      "text/plain": [
       "[<matplotlib.lines.Line2D at 0x7fc6c155a160>]"
      ]
     },
     "execution_count": 25,
     "metadata": {},
     "output_type": "execute_result"
    },
    {
     "data": {
      "image/png": "[encoded data removed]",
      "text/plain": [
       "<Figure size 432x288 with 1 Axes>"
      ]
     },
     "metadata": {
      "needs_background": "light"
     },
     "output_type": "display_data"
    }
   ],
   "source": [
    "plt.plot(xs[10:],[y.item() for y in ys[10:]])"
   ]
  },
  {
   "cell_type": "code",
   "execution_count": 30,
   "metadata": {},
   "outputs": [
    {
     "data": {
      "image/png": "[encoded data removed]",
      "text/plain": [
       "<Figure size 432x288 with 1 Axes>"
      ]
     },
     "metadata": {
      "needs_background": "light"
     },
     "output_type": "display_data"
    }
   ],
   "source": [
    "test(neural, test_x, test_y)"
   ]
  },
  {
   "cell_type": "code",
   "execution_count": 26,
   "metadata": {
    "id": "h3pSid13aHNU"
   },
   "outputs": [],
   "source": [
    "torch.save(neural.state_dict(), \"neural_trained.pth\")"
   ]
  },
  {
   "cell_type": "code",
   "execution_count": 27,
   "metadata": {},
   "outputs": [
    {
     "name": "stdout",
     "output_type": "stream",
     "text": [
      "Starting epoch: 0\n",
      "Epoch 0 ended with total avg. loss 344.0975404808396\n",
      "Starting epoch: 1\n",
      "Epoch 1 ended with total avg. loss 269.81246095666523\n",
      "Starting epoch: 2\n",
      "Epoch 2 ended with total avg. loss 215.71981689665364\n",
      "Starting epoch: 3\n",
      "Epoch 3 ended with total avg. loss 183.0423354148987\n",
      "Starting epoch: 4\n",
      "Epoch 4 ended with total avg. loss 136.06069702985582\n",
      "Starting epoch: 5\n",
      "Epoch 5 ended with total avg. loss 123.3911792167485\n",
      "Starting epoch: 6\n",
      "Epoch 6 ended with total avg. loss 94.99316636286974\n",
      "Starting epoch: 7\n",
      "Epoch 7 ended with total avg. loss 99.15893104657137\n",
      "Starting epoch: 8\n",
      "Epoch 8 ended with total avg. loss 74.99659493614624\n",
      "Starting epoch: 9\n",
      "Epoch 9 ended with total avg. loss 62.77114736797266\n",
      "Starting epoch: 10\n",
      "Epoch 10 ended with total avg. loss 60.2269144267544\n",
      "Starting epoch: 11\n",
      "Epoch 11 ended with total avg. loss 48.15200937806643\n",
      "Starting epoch: 12\n",
      "Epoch 12 ended with total avg. loss 38.0966774365421\n",
      "Starting epoch: 13\n",
      "Epoch 13 ended with total avg. loss 33.25202654972822\n",
      "Starting epoch: 14\n",
      "Epoch 14 ended with total avg. loss 31.199637819858463\n",
      "Starting epoch: 15\n",
      "Epoch 15 ended with total avg. loss 25.559490578762492\n",
      "Starting epoch: 16\n",
      "Epoch 16 ended with total avg. loss 21.01268167530433\n",
      "Starting epoch: 17\n",
      "Epoch 17 ended with total avg. loss 17.98952779085177\n",
      "Starting epoch: 18\n",
      "Epoch 18 ended with total avg. loss 15.120046058428334\n",
      "Starting epoch: 19\n",
      "Epoch 19 ended with total avg. loss 13.11834670386148\n",
      "Starting epoch: 20\n",
      "Epoch 20 ended with total avg. loss 11.116402149927374\n",
      "Starting epoch: 21\n",
      "Epoch 21 ended with total avg. loss 9.49870873898921\n",
      "Starting epoch: 22\n",
      "Epoch 22 ended with total avg. loss 8.732948490869811\n",
      "Starting epoch: 23\n",
      "Epoch 23 ended with total avg. loss 7.199885557973218\n",
      "Starting epoch: 24\n",
      "Epoch 24 ended with total avg. loss 6.860744746649482\n",
      "Starting epoch: 25\n",
      "Epoch 25 ended with total avg. loss 6.245592108038544\n",
      "Starting epoch: 26\n",
      "Epoch 26 ended with total avg. loss 5.710215204851447\n",
      "Starting epoch: 27\n",
      "Epoch 27 ended with total avg. loss 5.228858745631233\n",
      "Starting epoch: 28\n",
      "Epoch 28 ended with total avg. loss 4.9667751123919555\n",
      "Starting epoch: 29\n",
      "Epoch 29 ended with total avg. loss 4.521268883750675\n",
      "Starting epoch: 30\n",
      "Epoch 30 ended with total avg. loss 4.333373450668369\n",
      "Starting epoch: 31\n",
      "Epoch 31 ended with total avg. loss 4.214155889630938\n",
      "Starting epoch: 32\n",
      "Epoch 32 ended with total avg. loss 4.081652519296107\n",
      "Starting epoch: 33\n",
      "Epoch 33 ended with total avg. loss 3.9524320649612\n",
      "Starting epoch: 34\n",
      "Epoch 34 ended with total avg. loss 3.8466315165737317\n",
      "Starting epoch: 35\n",
      "Epoch 35 ended with total avg. loss 3.7756560403320263\n",
      "Starting epoch: 36\n",
      "Epoch 36 ended with total avg. loss 3.73895806694249\n",
      "Starting epoch: 37\n",
      "Epoch 37 ended with total avg. loss 3.6765695763554893\n",
      "Starting epoch: 38\n",
      "Epoch 38 ended with total avg. loss 3.629263909250132\n",
      "Starting epoch: 39\n",
      "Epoch 39 ended with total avg. loss 3.5892500784206307\n",
      "Starting epoch: 40\n",
      "Epoch 40 ended with total avg. loss 3.561014916723339\n",
      "Starting epoch: 41\n",
      "Epoch 41 ended with total avg. loss 3.5329896671608907\n",
      "Starting epoch: 42\n",
      "Epoch 42 ended with total avg. loss 3.5142559165309164\n",
      "Starting epoch: 43\n",
      "Epoch 43 ended with total avg. loss 3.5030562094360533\n",
      "Starting epoch: 44\n",
      "Epoch 44 ended with total avg. loss 3.485624576086664\n",
      "Starting epoch: 45\n",
      "Epoch 45 ended with total avg. loss 3.4726565128903086\n",
      "Starting epoch: 46\n",
      "Epoch 46 ended with total avg. loss 3.463260869225924\n",
      "Starting epoch: 47\n",
      "Epoch 47 ended with total avg. loss 3.4552286292378227\n",
      "Starting epoch: 48\n",
      "Epoch 48 ended with total avg. loss 3.4496925131276663\n",
      "Starting epoch: 49\n",
      "Epoch 49 ended with total avg. loss 3.4451395469153163\n",
      "Starting epoch: 50\n",
      "Epoch 50 ended with total avg. loss 3.442755765938511\n",
      "Starting epoch: 51\n",
      "Epoch 51 ended with total avg. loss 3.439962298403328\n",
      "Starting epoch: 52\n",
      "Epoch 52 ended with total avg. loss 3.4399571785874024\n",
      "Starting epoch: 53\n",
      "Epoch 53 ended with total avg. loss 3.440705268012657\n",
      "Starting epoch: 54\n",
      "Epoch 54 ended with total avg. loss 3.4403804595544853\n",
      "Starting epoch: 55\n",
      "Epoch 55 ended with total avg. loss 3.4424919988276708\n",
      "Starting epoch: 56\n",
      "Epoch 56 ended with total avg. loss 3.4446755750776727\n",
      "Starting epoch: 57\n",
      "Epoch 57 ended with total avg. loss 3.4468221286185408\n",
      "Starting epoch: 58\n",
      "Epoch 58 ended with total avg. loss 3.4488938898205195\n",
      "Starting epoch: 59\n",
      "Epoch 59 ended with total avg. loss 3.450840222487643\n",
      "Starting epoch: 60\n",
      "Epoch 60 ended with total avg. loss 3.4526192536432867\n",
      "Starting epoch: 61\n",
      "Epoch 61 ended with total avg. loss 3.4542547717971552\n",
      "Starting epoch: 62\n",
      "Epoch 62 ended with total avg. loss 3.455778084809773\n",
      "Starting epoch: 63\n",
      "Epoch 63 ended with total avg. loss 3.4570945523507612\n",
      "Starting epoch: 64\n",
      "Epoch 64 ended with total avg. loss 3.4583068759781113\n",
      "Starting epoch: 65\n",
      "Epoch 65 ended with total avg. loss 3.459222834549679\n",
      "Starting epoch: 66\n",
      "Epoch 66 ended with total avg. loss 3.460046895490977\n",
      "Starting epoch: 67\n",
      "Epoch 67 ended with total avg. loss 3.460748619982557\n",
      "Starting epoch: 68\n",
      "Epoch 68 ended with total avg. loss 3.4613425012244323\n",
      "Starting epoch: 69\n",
      "Epoch 69 ended with total avg. loss 3.4618358824111652\n",
      "Starting epoch: 70\n",
      "Epoch 70 ended with total avg. loss 3.462249673942875\n",
      "Starting epoch: 71\n",
      "Epoch 71 ended with total avg. loss 3.462603467291279\n",
      "Starting epoch: 72\n",
      "Epoch 72 ended with total avg. loss 3.462872424162533\n",
      "Starting epoch: 73\n",
      "Epoch 73 ended with total avg. loss 3.4630828997834597\n",
      "Starting epoch: 74\n",
      "Epoch 74 ended with total avg. loss 3.4632453991562984\n",
      "Starting epoch: 75\n",
      "Epoch 75 ended with total avg. loss 3.4633562469472943\n",
      "Starting epoch: 76\n",
      "Epoch 76 ended with total avg. loss 3.463434991331315\n",
      "Starting epoch: 77\n",
      "Epoch 77 ended with total avg. loss 3.4634780742950766\n",
      "Starting epoch: 78\n",
      "Epoch 78 ended with total avg. loss 3.463502404053597\n",
      "Starting epoch: 79\n",
      "Epoch 79 ended with total avg. loss 3.463505915217181\n",
      "Starting epoch: 80\n",
      "Epoch 80 ended with total avg. loss 3.4634923536918993\n",
      "Starting epoch: 81\n",
      "Epoch 81 ended with total avg. loss 3.463465409327095\n",
      "Starting epoch: 82\n",
      "Epoch 82 ended with total avg. loss 3.4634253512693607\n",
      "Starting epoch: 83\n",
      "Epoch 83 ended with total avg. loss 3.4633863982612105\n",
      "Starting epoch: 84\n",
      "Epoch 84 ended with total avg. loss 3.463337002983444\n",
      "Starting epoch: 85\n",
      "Epoch 85 ended with total avg. loss 3.4632853662265464\n",
      "Starting epoch: 86\n",
      "Epoch 86 ended with total avg. loss 3.4632312483744583\n",
      "Starting epoch: 87\n",
      "Epoch 87 ended with total avg. loss 3.46317485290637\n",
      "Starting epoch: 88\n",
      "Epoch 88 ended with total avg. loss 3.46312051546706\n",
      "Starting epoch: 89\n",
      "Epoch 89 ended with total avg. loss 3.4630623980870783\n"
     ]
    }
   ],
   "source": [
    "xs, ys = train(linnet, lin_optim, lin_loss, lin_scheduler, train_x, train_y, valid_x, valid_y, 90, 200)"
   ]
  },
  {
   "cell_type": "code",
   "execution_count": 28,
   "metadata": {},
   "outputs": [
    {
     "data": {
      "text/plain": [
       "[<matplotlib.lines.Line2D at 0x7fc6c3eed190>]"
      ]
     },
     "execution_count": 28,
     "metadata": {},
     "output_type": "execute_result"
    },
    {
     "data": {
      "image/png": "[encoded data removed]",
      "text/plain": [
       "<Figure size 432x288 with 1 Axes>"
      ]
     },
     "metadata": {
      "needs_background": "light"
     },
     "output_type": "display_data"
    }
   ],
   "source": [
    "plt.plot(xs,[y.item() for y in ys])"
   ]
  },
  {
   "cell_type": "code",
   "execution_count": 31,
   "metadata": {},
   "outputs": [
    {
     "data": {
      "image/png": "[encoded data removed]",
      "text/plain": [
       "<Figure size 432x288 with 1 Axes>"
      ]
     },
     "metadata": {
      "needs_background": "light"
     },
     "output_type": "display_data"
    }
   ],
   "source": [
    "test(linnet, test_x, test_y)"
   ]
  },
  {
   "cell_type": "code",
   "execution_count": 29,
   "metadata": {},
   "outputs": [],
   "source": [
    "torch.save(neural.state_dict(), \"linear_trained.pth\")"
   ]
  }
 ],
 "metadata": {
  "colab": {
   "collapsed_sections": [],
   "name": "COMP562.ipynb",
   "provenance": []
  },
  "kernelspec": {
   "display_name": "Python 3 (ipykernel)",
   "language": "python",
   "name": "python3"
  },
  "language_info": {
   "codemirror_mode": {
    "name": "ipython",
    "version": 3
   },
   "file_extension": ".py",
   "mimetype": "text/x-python",
   "name": "python",
   "nbconvert_exporter": "python",
   "pygments_lexer": "ipython3",
   "version": "3.8.12"
  }
 },
 "nbformat": 4,
 "nbformat_minor": 1
}
