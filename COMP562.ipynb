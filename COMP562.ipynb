{
 "cells": [
  {
   "cell_type": "markdown",
   "metadata": {},
   "source": [
    "# NBA Statistic Predictor\n"
   ]
  },
  {
   "cell_type": "code",
   "execution_count": 1,
   "metadata": {
    "id": "hLbjgX09Oa40"
   },
   "outputs": [],
   "source": [
    "import numpy as np\n",
    "import random\n",
    "import pandas as pd\n",
    "import torch\n",
    "import torch.nn as nn\n",
    "import torch.optim as optim\n",
    "import matplotlib.pyplot as plt"
   ]
  },
  {
   "cell_type": "markdown",
   "metadata": {
    "id": "Ttn-Z0s0W0Ai"
   },
   "source": [
    "## Abbreviation key\n",
    "| Name | Description |\n",
    "| :-- | :----: |\n",
    "| gp | games played\n",
    "| net_rating | offRating - defRating\n",
    "| offRating | 100*((points)/num_possesions) (not in data)\n",
    "| defRating | 100*((opp points/(opponents_num_possesions))) (not in data)\n",
    "| oreb_pct | offensive rebound percentage\n",
    "| usg_pct | percentage of team plays utilized by a player while they are in the game\n",
    "| ts_pct | true shooting percentage;  percentage of shots made factoring in threes and free throws.  \n",
    "| ast_ptg | assist percentage; percent of field goals (2 or 3 point shots not including free throws) \n",
    "\n",
    "\n",
    "\n"
   ]
  },
  {
   "cell_type": "code",
   "execution_count": 2,
   "metadata": {
    "colab": {
     "base_uri": "https://localhost:8080/"
    },
    "id": "g07GetHTUoXW",
    "outputId": "629c1d17-7b99-4952-d458-3bdbd622e7e5"
   },
   "outputs": [],
   "source": [
    "# !wget https://github.com/morganjng/nba-classifier/blob/main/all_seasons.csv\n",
    "csv = pd.read_csv(\"all_seasons.csv\")"
   ]
  },
  {
   "cell_type": "code",
   "execution_count": 3,
   "metadata": {
    "colab": {
     "base_uri": "https://localhost:8080/"
    },
    "id": "9HggkbrXVPrQ",
    "outputId": "afc6e8b4-6abc-414f-ee33-ab53851e50a7"
   },
   "outputs": [
    {
     "name": "stdout",
     "output_type": "stream",
     "text": [
      "Index(['Unnamed: 0', 'player_name', 'team_abbreviation', 'age',\n",
      "       'player_height', 'player_weight', 'college', 'country', 'draft_year',\n",
      "       'draft_round', 'draft_number', 'gp', 'pts', 'reb', 'ast', 'net_rating',\n",
      "       'oreb_pct', 'dreb_pct', 'usg_pct', 'ts_pct', 'ast_pct', 'season'],\n",
      "      dtype='object') 11700\n"
     ]
    }
   ],
   "source": [
    "total_players = len(csv[\"player_name\"])\n",
    "print(csv.columns, total_players)\n",
    "#print(csv)"
   ]
  },
  {
   "cell_type": "markdown",
   "metadata": {},
   "source": [
    "## Pre-processsing the dataset\n",
    "### Building a function to return one-hot vectors for string entries in data"
   ]
  },
  {
   "cell_type": "code",
   "execution_count": 4,
   "metadata": {
    "colab": {
     "base_uri": "https://localhost:8080/"
    },
    "id": "IcbTc_xTnL3M",
    "outputId": "f7da51dc-b84f-41e8-e61e-e61ae88881a2"
   },
   "outputs": [],
   "source": [
    "colleges = []\n",
    "countries = []\n",
    "years = []\n",
    "seasons = []\n",
    "teams = []\n",
    "for i in range(0, total_players):\n",
    "    if(csv[\"college\"][i] not in colleges):\n",
    "        colleges.append(csv[\"college\"][i])\n",
    "    if(csv[\"country\"][i] not in countries):\n",
    "        countries.append(csv[\"country\"][i])\n",
    "    if(csv[\"draft_year\"][i] not in colleges):\n",
    "        years.append(csv[\"draft_year\"][i])\n",
    "    if(csv[\"season\"][i] not in seasons):\n",
    "        seasons.append(csv[\"season\"][i])\n",
    "    if(csv[\"team_abbreviation\"][i] not in teams):\n",
    "        teams.append(csv[\"team_abbreviation\"][i])\n",
    "# print(colleges, countries, years, seasons, teams)\n",
    "\n",
    "def one_hot(value, array):\n",
    "    v = [0 for i in range(len(array))]\n",
    "    v[array.index(value)] = 1\n",
    "    return torch.Tensor(v)"
   ]
  },
  {
   "cell_type": "markdown",
   "metadata": {},
   "source": [
    "### Handling n/a entries in the table"
   ]
  },
  {
   "cell_type": "code",
   "execution_count": 5,
   "metadata": {
    "colab": {
     "base_uri": "https://localhost:8080/"
    },
    "id": "RvnWL8J0yCJq",
    "outputId": "9ace3917-5648-4a74-f410-2d492979233e"
   },
   "outputs": [
    {
     "name": "stdout",
     "output_type": "stream",
     "text": [
      "1.3026233603997501 21.783007080383175\n"
     ]
    },
    {
     "name": "stderr",
     "output_type": "stream",
     "text": [
      "/tmp/ipykernel_8808/2896530013.py:19: SettingWithCopyWarning: \n",
      "A value is trying to be set on a copy of a slice from a DataFrame\n",
      "\n",
      "See the caveats in the documentation: https://pandas.pydata.org/pandas-docs/stable/user_guide/indexing.html#returning-a-view-versus-a-copy\n",
      "  csv[\"draft_number\"][i] = mean_number\n",
      "/tmp/ipykernel_8808/2896530013.py:21: SettingWithCopyWarning: \n",
      "A value is trying to be set on a copy of a slice from a DataFrame\n",
      "\n",
      "See the caveats in the documentation: https://pandas.pydata.org/pandas-docs/stable/user_guide/indexing.html#returning-a-view-versus-a-copy\n",
      "  csv[\"draft_round\"][i] = mean_round\n"
     ]
    }
   ],
   "source": [
    "sum_round = 0\n",
    "count_round = 0\n",
    "sum_number = 0\n",
    "count_number = 0\n",
    "for i in range(0, total_players):\n",
    "    if(csv[\"draft_number\"][i] != \"Undrafted\"):\n",
    "        sum_number += int(csv[\"draft_number\"][i])\n",
    "        count_number += 1\n",
    "    if(csv[\"draft_round\"][i] != \"Undrafted\"):\n",
    "        sum_round += int(csv[\"draft_round\"][i])\n",
    "        count_round += 1\n",
    "\n",
    "mean_round = sum_round / count_round\n",
    "mean_number = sum_number / count_number\n",
    "print(mean_round, mean_number)\n",
    "\n",
    "for i in range(0, total_players):\n",
    "    if(csv[\"draft_number\"][i] == \"Undrafted\"):\n",
    "        csv[\"draft_number\"][i] = mean_number\n",
    "    if(csv[\"draft_round\"][i] == \"Undrafted\"):\n",
    "        csv[\"draft_round\"][i] = mean_round"
   ]
  },
  {
   "cell_type": "markdown",
   "metadata": {
    "id": "cB2uQ3dqZBfV"
   },
   "source": [
    "### Defining a function to split up our data randomly"
   ]
  },
  {
   "cell_type": "code",
   "execution_count": 6,
   "metadata": {
    "id": "EcBguZmQVkO0"
   },
   "outputs": [],
   "source": [
    "def random_split(test_percent, valid_percent):\n",
    "    test_amount = int(total_players * test_percent)\n",
    "    valid_amount = int(total_players * valid_percent)\n",
    "    valid_sample = random.sample(range(0,total_players), test_amount + valid_amount)\n",
    "    test_sample = []\n",
    "    for i in range(test_amount):\n",
    "        test_sample.append(valid_sample.pop(0))\n",
    "    train_sample = [i for i in range(0, total_players)]\n",
    "    test_x = []\n",
    "    test_y = []\n",
    "    train_x = []\n",
    "    train_y = []\n",
    "    valid_x = []\n",
    "    valid_y = []\n",
    "    for idx in valid_sample:\n",
    "        train_sample.remove(idx)\n",
    "    for idx in test_sample:\n",
    "        train_sample.remove(idx)\n",
    "    print(\"Total: %d, Train: %d, Test: %d, Valid: %d\" % (total_players, len(train_sample), len(test_sample), len(valid_sample)))\n",
    "    for idx in test_sample:\n",
    "        test_x.append([one_hot(csv[\"team_abbreviation\"][idx], teams), one_hot(csv[\"college\"][idx], colleges), one_hot(csv[\"country\"][idx], countries),\n",
    "                   one_hot(csv[\"draft_year\"][idx], years), one_hot(csv[\"season\"][idx], seasons), float(csv[\"age\"][idx]),\n",
    "                   float(csv[\"player_height\"][idx]), float(csv[\"player_weight\"][idx]), float(csv[\"draft_round\"][idx]), float(csv[\"draft_number\"][idx]),\n",
    "                   float(csv[\"gp\"][idx]), float(csv[\"net_rating\"][idx]), float(csv[\"usg_pct\"][idx])])\n",
    "        test_y.append(torch.Tensor([float(csv[\"pts\"][idx]), float(csv[\"reb\"][idx]),\n",
    "                   float(csv[\"ast\"][idx]), float(csv[\"oreb_pct\"][idx]), float(csv[\"dreb_pct\"][idx]), float(csv[\"ts_pct\"][idx]), float(csv[\"ast_pct\"][idx])]))\n",
    "    for idx in train_sample:\n",
    "        train_x.append([one_hot(csv[\"team_abbreviation\"][idx], teams), one_hot(csv[\"college\"][idx], colleges), one_hot(csv[\"country\"][idx], countries),\n",
    "                   one_hot(csv[\"draft_year\"][idx], years), one_hot(csv[\"season\"][idx], seasons), float(csv[\"age\"][idx]),\n",
    "                   float(csv[\"player_height\"][idx]), float(csv[\"player_weight\"][idx]), float(csv[\"draft_round\"][idx]), float(csv[\"draft_number\"][idx]),\n",
    "                   float(csv[\"gp\"][idx]), float(csv[\"net_rating\"][idx]), float(csv[\"usg_pct\"][idx])])\n",
    "        train_y.append(torch.Tensor([float(csv[\"pts\"][idx]), float(csv[\"reb\"][idx]),\n",
    "                   float(csv[\"ast\"][idx]), float(csv[\"oreb_pct\"][idx]), float(csv[\"dreb_pct\"][idx]), float(csv[\"ts_pct\"][idx]), float(csv[\"ast_pct\"][idx])]))\n",
    "    for idx in valid_sample:\n",
    "        valid_x.append([one_hot(csv[\"team_abbreviation\"][idx], teams), one_hot(csv[\"college\"][idx], colleges), one_hot(csv[\"country\"][idx], countries),\n",
    "                   one_hot(csv[\"draft_year\"][idx], years), one_hot(csv[\"season\"][idx], seasons), float(csv[\"age\"][idx]),\n",
    "                   float(csv[\"player_height\"][idx]), float(csv[\"player_weight\"][idx]), float(csv[\"draft_round\"][idx]), float(csv[\"draft_number\"][idx]),\n",
    "                   float(csv[\"gp\"][idx]), float(csv[\"net_rating\"][idx]), float(csv[\"usg_pct\"][idx])])\n",
    "        valid_y.append(torch.Tensor([float(csv[\"pts\"][idx]), float(csv[\"reb\"][idx]),\n",
    "                   float(csv[\"ast\"][idx]), float(csv[\"oreb_pct\"][idx]), float(csv[\"dreb_pct\"][idx]), float(csv[\"ts_pct\"][idx]), float(csv[\"ast_pct\"][idx])]))\n",
    "    return train_x, train_y, test_x, test_y, valid_x, valid_y"
   ]
  },
  {
   "cell_type": "code",
   "execution_count": 7,
   "metadata": {
    "colab": {
     "base_uri": "https://localhost:8080/"
    },
    "id": "ETNQDbVTtHJR",
    "outputId": "a4b9b9ee-4ac3-4de3-b95e-d7be20b239cc"
   },
   "outputs": [
    {
     "name": "stdout",
     "output_type": "stream",
     "text": [
      "Total: 11700, Train: 9360, Test: 1170, Valid: 1170\n",
      "CPU times: user 9.64 s, sys: 230 ms, total: 9.87 s\n",
      "Wall time: 9.81 s\n"
     ]
    }
   ],
   "source": [
    "%time train_x, train_y, test_x, test_y, valid_x, valid_y = random_split(0.1, 0.1)"
   ]
  },
  {
   "cell_type": "markdown",
   "metadata": {
    "id": "KXJsCq65ZWKm"
   },
   "source": [
    "## Training and test function"
   ]
  },
  {
   "cell_type": "code",
   "execution_count": 8,
   "metadata": {},
   "outputs": [],
   "source": [
    "def train(neural_net, optimizer, loss, scheduler, train_features, train_labels, valid_features, valid_labels, epochs, batch_size, dropout=False):\n",
    "    xs = [i for i in range(epochs)]\n",
    "    ys = []\n",
    "    for epoch in range(epochs):\n",
    "        print(\"Starting epoch: \" + str(epoch))\n",
    "        count = 0\n",
    "        rl = 0.0\n",
    "        neural_net.train()\n",
    "        optimizer.zero_grad()\n",
    "        for i in range(len(train_labels)):\n",
    "            train_y = train_labels[i]\n",
    "            train_x = train_features[i]\n",
    "            output = neural_net(train_x)\n",
    "            out_loss = loss(output, train_y)\n",
    "            out_loss.backward()\n",
    "            optimizer.step()\n",
    "            count += 1\n",
    "            rl += out_loss.item() / float(len(train_labels))\n",
    "            if count % batch_size == 0:\n",
    "                optimizer.zero_grad()\n",
    "                # print(str(count) + \" entries completed. Loss: \" + str(rl/batch_size))\n",
    "                #rl = 0.0\n",
    "        scheduler.step()\n",
    "        epoch_loss = 0.0\n",
    "        neural_net.eval()\n",
    "        for i in range(len(valid_labels)):\n",
    "            valid_y = valid_labels[i]\n",
    "            valid_x = valid_features[i]\n",
    "            output = neural_net(valid_x)\n",
    "            epoch_loss += loss(output, valid_y)/float(len(valid_labels))\n",
    "        ys.append(epoch_loss)\n",
    "        print( (\"Epoch %d ended with total avg. loss \" + str(rl) ) % epoch)\n",
    "    return xs, ys\n",
    "\n",
    "def test(neural, test_x, test_y):\n",
    "    l = []\n",
    "    x = []\n",
    "    neural.eval()\n",
    "    for i in range(len(test_x)):\n",
    "        l.append(loss(neural(test_x[i]), test_y[i]).item())\n",
    "        x.append(i)\n",
    "    plt.hist(l, range(0,25))"
   ]
  },
  {
   "cell_type": "code",
   "execution_count": 13,
   "metadata": {
    "id": "o3lRDT7abczZ"
   },
   "outputs": [],
   "source": [
    "class NeuralNet(nn.Module):\n",
    "    def __init__(self):\n",
    "        super().__init__()\n",
    "        self.teamLin = nn.Linear(len(teams), 1)\n",
    "        self.collegeLin = nn.Linear(len(colleges), 1)\n",
    "        self.countryLin = nn.Linear(len(countries), 1)\n",
    "        self.draftLin = nn.Linear(len(years), 1)\n",
    "        self.seasonLin = nn.Linear(len(seasons), 1)\n",
    "        self.sequential = nn.Sequential(\n",
    "            nn.Linear(13, 20),\n",
    "            nn.Dropout(p=0.2),\n",
    "            nn.Linear(20, 32),\n",
    "            nn.ReLU(),\n",
    "            nn.Dropout(p=0.2),\n",
    "            nn.Linear(32, 32),\n",
    "            nn.Tanh(),\n",
    "            nn.Dropout(p=0.2),\n",
    "            nn.Linear(32, 20),\n",
    "            nn.Dropout(p=0.2),\n",
    "            nn.Linear(20, 7),\n",
    "        )\n",
    "\n",
    "    def forward(self, x):\n",
    "        x = torch.Tensor([self.teamLin(x[0]), self.collegeLin(x[1]), self.countryLin(x[2]), self.draftLin(x[3]), self.seasonLin(x[4])] + x[5:])\n",
    "        return self.sequential(x)"
   ]
  },
  {
   "cell_type": "code",
   "execution_count": 14,
   "metadata": {
    "id": "5iMAYklzpqVI"
   },
   "outputs": [],
   "source": [
    "class LinearNet(nn.Module):\n",
    "    def __init__(self):\n",
    "        super().__init__()\n",
    "        self.teamLin = nn.Linear(len(teams), 1)\n",
    "        self.collegeLin = nn.Linear(len(colleges), 1)\n",
    "        self.countryLin = nn.Linear(len(countries), 1)\n",
    "        self.draftLin = nn.Linear(len(years), 1)\n",
    "        self.seasonLin = nn.Linear(len(seasons), 1)\n",
    "        self.sequential = nn.Sequential(\n",
    "            nn.Linear(13, 7)\n",
    "        )\n",
    "\n",
    "    def forward(self, x):\n",
    "        x = torch.Tensor([self.teamLin(x[0]), self.collegeLin(x[1]), self.countryLin(x[2]), self.draftLin(x[3]), self.seasonLin(x[4])] + x[5:])\n",
    "        return self.sequential(x)"
   ]
  },
  {
   "cell_type": "code",
   "execution_count": null,
   "metadata": {},
   "outputs": [],
   "source": [
    "class Linear2Net(nn.Module):\n",
    "    def __init__(self):\n",
    "        super().__init__()\n",
    "        self.teamLin = nn.Linear(len(teams), 1)\n",
    "        self.collegeLin = nn.Linear(len(colleges), 1)\n",
    "        self.countryLin = nn.Linear(len(countries), 1)\n",
    "        self.draftLin = nn.Linear(len(years), 1)\n",
    "        self.seasonLin = nn.Linear(len(seasons), 1)\n",
    "        self.sequential = nn.Sequential(\n",
    "            nn.Linear(13, 20),\n",
    "            nn.Dropout(p=0.2),\n",
    "            nn.Linear(20, 40),\n",
    "            nn.Dropout(p=0.2),\n",
    "            nn.Linear(40, 40),\n",
    "            nn.Dropout(p=0.2),\n",
    "            nn.Linear(40, 40),\n",
    "            nn.Dropout(p=0.2),\n",
    "            nn.Linear(40, 20),\n",
    "            nn.Dropout(p=0.2),\n",
    "            nn.Linear(20, 7),\n",
    "        )\n",
    "\n",
    "    def forward(self, x):\n",
    "        x = torch.Tensor([self.teamLin(x[0]), self.collegeLin(x[1]), self.countryLin(x[2]), self.draftLin(x[3]), self.seasonLin(x[4])] + x[5:])\n",
    "        return self.sequential(x)"
   ]
  },
  {
   "cell_type": "code",
   "execution_count": 39,
   "metadata": {
    "id": "iXGBUuFtbeyq"
   },
   "outputs": [],
   "source": [
    "neural = NeuralNet()\n",
    "linnet = LinearNet()\n",
    "loss = nn.MSELoss()\n",
    "lin_loss = nn.MSELoss()\n",
    "lin_optim = optim.Adam(linnet.parameters())\n",
    "optimizer = optim.Adam(neural.parameters(), lr=0.1)\n",
    "lin_scheduler = optim.lr_scheduler.ExponentialLR(lin_optim, gamma=0.9)\n",
    "n_scheduler = optim.lr_scheduler.ExponentialLR(optimizer, gamma=0.9)"
   ]
  },
  {
   "cell_type": "code",
   "execution_count": 40,
   "metadata": {},
   "outputs": [
    {
     "name": "stdout",
     "output_type": "stream",
     "text": [
      "Starting epoch: 0\n",
      "Epoch 0 ended with total avg. loss 25371273.198989972\n",
      "Starting epoch: 1\n",
      "Epoch 1 ended with total avg. loss 95783494.31935583\n",
      "Starting epoch: 2\n",
      "Epoch 2 ended with total avg. loss 44779281.28472207\n",
      "Starting epoch: 3\n",
      "Epoch 3 ended with total avg. loss 2135650.482660642\n",
      "Starting epoch: 4\n",
      "Epoch 4 ended with total avg. loss 21087001.216240924\n",
      "Starting epoch: 5\n",
      "Epoch 5 ended with total avg. loss 5005211.365768618\n",
      "Starting epoch: 6\n",
      "Epoch 6 ended with total avg. loss 10354391.400983918\n",
      "Starting epoch: 7\n",
      "Epoch 7 ended with total avg. loss 9196787.520431425\n",
      "Starting epoch: 8\n",
      "Epoch 8 ended with total avg. loss 2415978.2469638484\n",
      "Starting epoch: 9\n",
      "Epoch 9 ended with total avg. loss 23000.779501427976\n",
      "Starting epoch: 10\n",
      "Epoch 10 ended with total avg. loss 555960.4074719234\n",
      "Starting epoch: 11\n",
      "Epoch 11 ended with total avg. loss 866242.3476854531\n",
      "Starting epoch: 12\n",
      "Epoch 12 ended with total avg. loss 423176.86229813687\n",
      "Starting epoch: 13\n",
      "Epoch 13 ended with total avg. loss 293381.24274683103\n",
      "Starting epoch: 14\n",
      "Epoch 14 ended with total avg. loss 251347.46018189593\n",
      "Starting epoch: 15\n",
      "Epoch 15 ended with total avg. loss 220422.30905962657\n",
      "Starting epoch: 16\n",
      "Epoch 16 ended with total avg. loss 139593.6063255194\n",
      "Starting epoch: 17\n",
      "Epoch 17 ended with total avg. loss 1919.2903445223592\n",
      "Starting epoch: 18\n",
      "Epoch 18 ended with total avg. loss 71386.7042744851\n",
      "Starting epoch: 19\n",
      "Epoch 19 ended with total avg. loss 29008.327338841947\n",
      "Starting epoch: 20\n",
      "Epoch 20 ended with total avg. loss 19599.362201327738\n",
      "Starting epoch: 21\n",
      "Epoch 21 ended with total avg. loss 14786.572260923484\n",
      "Starting epoch: 22\n",
      "Epoch 22 ended with total avg. loss 10228.434326141973\n",
      "Starting epoch: 23\n",
      "Epoch 23 ended with total avg. loss 8926.925806134208\n",
      "Starting epoch: 24\n",
      "Epoch 24 ended with total avg. loss 280.1478511401517\n",
      "Starting epoch: 25\n",
      "Epoch 25 ended with total avg. loss 3568.9132197477\n",
      "Starting epoch: 26\n",
      "Epoch 26 ended with total avg. loss 1196.9130122005\n",
      "Starting epoch: 27\n",
      "Epoch 27 ended with total avg. loss 539.2827228391989\n",
      "Starting epoch: 28\n",
      "Epoch 28 ended with total avg. loss 272.7260114924963\n",
      "Starting epoch: 29\n",
      "Epoch 29 ended with total avg. loss 386.9731785351087\n",
      "Starting epoch: 30\n",
      "Epoch 30 ended with total avg. loss 174.7479157451079\n",
      "Starting epoch: 31\n",
      "Epoch 31 ended with total avg. loss 105.10583931090049\n",
      "Starting epoch: 32\n",
      "Epoch 32 ended with total avg. loss 187.79534424523484\n",
      "Starting epoch: 33\n",
      "Epoch 33 ended with total avg. loss 36.099061497414276\n",
      "Starting epoch: 34\n",
      "Epoch 34 ended with total avg. loss 121.47631757495917\n",
      "Starting epoch: 35\n",
      "Epoch 35 ended with total avg. loss 24.69471183882469\n",
      "Starting epoch: 36\n",
      "Epoch 36 ended with total avg. loss 22.514255962097664\n",
      "Starting epoch: 37\n",
      "Epoch 37 ended with total avg. loss 18.97730161073307\n",
      "Starting epoch: 38\n",
      "Epoch 38 ended with total avg. loss 16.96076814523464\n",
      "Starting epoch: 39\n",
      "Epoch 39 ended with total avg. loss 11.107238160518918\n",
      "Starting epoch: 40\n",
      "Epoch 40 ended with total avg. loss 10.756474319601384\n",
      "Starting epoch: 41\n",
      "Epoch 41 ended with total avg. loss 7.575608382814394\n",
      "Starting epoch: 42\n",
      "Epoch 42 ended with total avg. loss 9.1701873267741\n",
      "Starting epoch: 43\n",
      "Epoch 43 ended with total avg. loss 7.500815303618508\n",
      "Starting epoch: 44\n",
      "Epoch 44 ended with total avg. loss 6.880782513864907\n",
      "Starting epoch: 45\n",
      "Epoch 45 ended with total avg. loss 7.054965998658219\n",
      "Starting epoch: 46\n",
      "Epoch 46 ended with total avg. loss 6.753999434217499\n",
      "Starting epoch: 47\n",
      "Epoch 47 ended with total avg. loss 6.798042123273723\n",
      "Starting epoch: 48\n",
      "Epoch 48 ended with total avg. loss 6.5420106351775145\n",
      "Starting epoch: 49\n",
      "Epoch 49 ended with total avg. loss 6.558275994392208\n",
      "Starting epoch: 50\n",
      "Epoch 50 ended with total avg. loss 6.491110142829268\n",
      "Starting epoch: 51\n",
      "Epoch 51 ended with total avg. loss 6.477699374864737\n",
      "Starting epoch: 52\n",
      "Epoch 52 ended with total avg. loss 6.453667395198058\n",
      "Starting epoch: 53\n",
      "Epoch 53 ended with total avg. loss 6.434234200460427\n",
      "Starting epoch: 54\n",
      "Epoch 54 ended with total avg. loss 6.427103256598902\n",
      "Starting epoch: 55\n",
      "Epoch 55 ended with total avg. loss 6.4145790732113035\n",
      "Starting epoch: 56\n",
      "Epoch 56 ended with total avg. loss 6.408991927597579\n",
      "Starting epoch: 57\n",
      "Epoch 57 ended with total avg. loss 6.399815390493477\n",
      "Starting epoch: 58\n",
      "Epoch 58 ended with total avg. loss 6.389679215560348\n",
      "Starting epoch: 59\n",
      "Epoch 59 ended with total avg. loss 6.383458165343425\n",
      "Starting epoch: 60\n",
      "Epoch 60 ended with total avg. loss 6.3824324665898935\n",
      "Starting epoch: 61\n",
      "Epoch 61 ended with total avg. loss 6.379309474169988\n",
      "Starting epoch: 62\n",
      "Epoch 62 ended with total avg. loss 6.366321532631319\n",
      "Starting epoch: 63\n",
      "Epoch 63 ended with total avg. loss 6.372358205899937\n",
      "Starting epoch: 64\n",
      "Epoch 64 ended with total avg. loss 6.371422257795285\n",
      "Starting epoch: 65\n",
      "Epoch 65 ended with total avg. loss 6.3663822763682925\n",
      "Starting epoch: 66\n",
      "Epoch 66 ended with total avg. loss 6.372993488115253\n",
      "Starting epoch: 67\n",
      "Epoch 67 ended with total avg. loss 6.362879356784967\n",
      "Starting epoch: 68\n",
      "Epoch 68 ended with total avg. loss 6.362162917039184\n",
      "Starting epoch: 69\n",
      "Epoch 69 ended with total avg. loss 6.365466338514348\n",
      "Starting epoch: 70\n",
      "Epoch 70 ended with total avg. loss 6.3591854064420925\n",
      "Starting epoch: 71\n",
      "Epoch 71 ended with total avg. loss 6.359942388734421\n",
      "Starting epoch: 72\n",
      "Epoch 72 ended with total avg. loss 6.359621810805383\n",
      "Starting epoch: 73\n",
      "Epoch 73 ended with total avg. loss 6.361254586126362\n",
      "Starting epoch: 74\n",
      "Epoch 74 ended with total avg. loss 6.360470814743786\n",
      "Starting epoch: 75\n",
      "Epoch 75 ended with total avg. loss 6.360494722428225\n",
      "Starting epoch: 76\n",
      "Epoch 76 ended with total avg. loss 6.36192313838378\n",
      "Starting epoch: 77\n",
      "Epoch 77 ended with total avg. loss 6.363825836029414\n",
      "Starting epoch: 78\n",
      "Epoch 78 ended with total avg. loss 6.360487098884915\n",
      "Starting epoch: 79\n",
      "Epoch 79 ended with total avg. loss 6.357344786200145\n",
      "Starting epoch: 80\n",
      "Epoch 80 ended with total avg. loss 6.36084299355772\n",
      "Starting epoch: 81\n",
      "Epoch 81 ended with total avg. loss 6.362360205354577\n",
      "Starting epoch: 82\n",
      "Epoch 82 ended with total avg. loss 6.357193628515929\n",
      "Starting epoch: 83\n",
      "Epoch 83 ended with total avg. loss 6.360571953748627\n",
      "Starting epoch: 84\n",
      "Epoch 84 ended with total avg. loss 6.361536966136295\n",
      "Starting epoch: 85\n",
      "Epoch 85 ended with total avg. loss 6.359939767696361\n",
      "Starting epoch: 86\n",
      "Epoch 86 ended with total avg. loss 6.358412090541282\n",
      "Starting epoch: 87\n",
      "Epoch 87 ended with total avg. loss 6.360747712185004\n",
      "Starting epoch: 88\n",
      "Epoch 88 ended with total avg. loss 6.359852853402256\n",
      "Starting epoch: 89\n",
      "Epoch 89 ended with total avg. loss 6.359139070271938\n"
     ]
    }
   ],
   "source": [
    "xs, ys = train(neural, optimizer, loss, n_scheduler, train_x, train_y, valid_x, valid_y, 90, 100)"
   ]
  },
  {
   "cell_type": "code",
   "execution_count": 41,
   "metadata": {
    "scrolled": true
   },
   "outputs": [
    {
     "data": {
      "text/plain": [
       "[<matplotlib.lines.Line2D at 0x7f03abb89040>]"
      ]
     },
     "execution_count": 41,
     "metadata": {},
     "output_type": "execute_result"
    },
    {
     "data": {
      "image/png": "[encoded data removed]",
      "text/plain": [
       "<Figure size 432x288 with 1 Axes>"
      ]
     },
     "metadata": {
      "needs_background": "light"
     },
     "output_type": "display_data"
    }
   ],
   "source": [
    "plt.plot(xs[20:],[y.item() for y in ys[20:]])"
   ]
  },
  {
   "cell_type": "code",
   "execution_count": 47,
   "metadata": {},
   "outputs": [],
   "source": [
    "xs = [0, 1, 2, 3, 4, 5, 6, 7, 8, 9, 10, 11, 12, 13, 14, 15, 16, 17, 18, 19, 20, 21, 22, 23, 24, 25, 26, 27, 28, 29, 30, 31, 32, 33, 34, 35, 36, 37, 38, 39, 40, 41, 42, 43, 44, 45, 46, 47, 48, 49, 50, 51, 52, 53, 54, 55, 56, 57, 58, 59, 60, 61, 62, 63, 64, 65, 66, 67, 68, 69, 70, 71, 72, 73, 74, 75, 76, 77, 78, 79, 80, 81, 82, 83, 84, 85, 86, 87, 88, 89]\n",
    "ys = [119.52702331542969, 603.3388061523438, 4829.845703125, 828393792.0, 93.27699279785156, 91.2274398803711, 443.8214416503906, 597.7467651367188, 89538.7578125, 45.516605377197266, 8.532577514648438, 21.84990119934082, 14.311190605163574, 24.592117309570312, 123.53816986083984, 33.007110595703125, 267.58587646484375, 110576.4921875, 8.249222755432129, 6.81900691986084, 6.980522155761719, 18.713106155395508, 9.170637130737305, 1366.7928466796875, 6.900881290435791, 7.809047698974609, 6.733803749084473, 6.836584091186523, 7.087950229644775, 6.8145833015441895, 6.717880725860596, 6.752406120300293, 6.797912120819092, 6.703051567077637, 6.713418006896973, 6.801753044128418, 6.735633373260498, 6.706026077270508, 6.715686798095703, 6.938708782196045, 6.725216388702393, 6.742655277252197, 6.718299865722656, 6.731109619140625, 6.869802474975586, 6.719986438751221, 6.737554550170898, 6.8809309005737305, 6.853152751922607, 6.707515716552734, 6.698742389678955, 6.702488899230957, 6.707519054412842, 6.728691577911377, 6.701158046722412, 6.6990156173706055, 6.698864936828613, 6.707967758178711, 6.699005603790283, 6.732588768005371, 6.698172092437744, 6.699856281280518, 6.718636989593506, 6.7059006690979, 6.702841758728027, 6.7123026847839355, 6.700403690338135, 6.704747200012207, 6.704222679138184, 6.699023246765137, 6.71103048324585, 6.701544761657715, 6.709853649139404, 6.700378894805908, 6.700655460357666, 6.701314449310303, 6.698904991149902, 6.697048664093018, 6.6972761154174805, 6.697368621826172, 6.697035789489746, 6.697251796722412, 6.697418212890625, 6.697259426116943, 6.697862148284912, 6.699279308319092, 6.69838809967041, 6.699851989746094, 6.700303077697754, 6.700693130493164]\n"
   ]
  },
  {
   "cell_type": "code",
   "execution_count": 44,
   "metadata": {},
   "outputs": [
    {
     "data": {
      "image/png": "[encoded data removed]",
      "text/plain": [
       "<Figure size 432x288 with 1 Axes>"
      ]
     },
     "metadata": {
      "needs_background": "light"
     },
     "output_type": "display_data"
    }
   ],
   "source": [
    "test(neural, test_x, test_y)"
   ]
  },
  {
   "cell_type": "code",
   "execution_count": 26,
   "metadata": {
    "id": "h3pSid13aHNU"
   },
   "outputs": [],
   "source": [
    "torch.save(neural.state_dict(), \"neural_trained.pth\")"
   ]
  },
  {
   "cell_type": "code",
   "execution_count": 27,
   "metadata": {},
   "outputs": [
    {
     "name": "stdout",
     "output_type": "stream",
     "text": [
      "Starting epoch: 0\n",
      "Epoch 0 ended with total avg. loss 344.0975404808396\n",
      "Starting epoch: 1\n",
      "Epoch 1 ended with total avg. loss 269.81246095666523\n",
      "Starting epoch: 2\n",
      "Epoch 2 ended with total avg. loss 215.71981689665364\n",
      "Starting epoch: 3\n",
      "Epoch 3 ended with total avg. loss 183.0423354148987\n",
      "Starting epoch: 4\n",
      "Epoch 4 ended with total avg. loss 136.06069702985582\n",
      "Starting epoch: 5\n",
      "Epoch 5 ended with total avg. loss 123.3911792167485\n",
      "Starting epoch: 6\n",
      "Epoch 6 ended with total avg. loss 94.99316636286974\n",
      "Starting epoch: 7\n",
      "Epoch 7 ended with total avg. loss 99.15893104657137\n",
      "Starting epoch: 8\n",
      "Epoch 8 ended with total avg. loss 74.99659493614624\n",
      "Starting epoch: 9\n",
      "Epoch 9 ended with total avg. loss 62.77114736797266\n",
      "Starting epoch: 10\n",
      "Epoch 10 ended with total avg. loss 60.2269144267544\n",
      "Starting epoch: 11\n",
      "Epoch 11 ended with total avg. loss 48.15200937806643\n",
      "Starting epoch: 12\n",
      "Epoch 12 ended with total avg. loss 38.0966774365421\n",
      "Starting epoch: 13\n",
      "Epoch 13 ended with total avg. loss 33.25202654972822\n",
      "Starting epoch: 14\n",
      "Epoch 14 ended with total avg. loss 31.199637819858463\n",
      "Starting epoch: 15\n",
      "Epoch 15 ended with total avg. loss 25.559490578762492\n",
      "Starting epoch: 16\n",
      "Epoch 16 ended with total avg. loss 21.01268167530433\n",
      "Starting epoch: 17\n",
      "Epoch 17 ended with total avg. loss 17.98952779085177\n",
      "Starting epoch: 18\n",
      "Epoch 18 ended with total avg. loss 15.120046058428334\n",
      "Starting epoch: 19\n",
      "Epoch 19 ended with total avg. loss 13.11834670386148\n",
      "Starting epoch: 20\n",
      "Epoch 20 ended with total avg. loss 11.116402149927374\n",
      "Starting epoch: 21\n",
      "Epoch 21 ended with total avg. loss 9.49870873898921\n",
      "Starting epoch: 22\n",
      "Epoch 22 ended with total avg. loss 8.732948490869811\n",
      "Starting epoch: 23\n",
      "Epoch 23 ended with total avg. loss 7.199885557973218\n",
      "Starting epoch: 24\n",
      "Epoch 24 ended with total avg. loss 6.860744746649482\n",
      "Starting epoch: 25\n",
      "Epoch 25 ended with total avg. loss 6.245592108038544\n",
      "Starting epoch: 26\n",
      "Epoch 26 ended with total avg. loss 5.710215204851447\n",
      "Starting epoch: 27\n",
      "Epoch 27 ended with total avg. loss 5.228858745631233\n",
      "Starting epoch: 28\n",
      "Epoch 28 ended with total avg. loss 4.9667751123919555\n",
      "Starting epoch: 29\n",
      "Epoch 29 ended with total avg. loss 4.521268883750675\n",
      "Starting epoch: 30\n",
      "Epoch 30 ended with total avg. loss 4.333373450668369\n",
      "Starting epoch: 31\n",
      "Epoch 31 ended with total avg. loss 4.214155889630938\n",
      "Starting epoch: 32\n",
      "Epoch 32 ended with total avg. loss 4.081652519296107\n",
      "Starting epoch: 33\n",
      "Epoch 33 ended with total avg. loss 3.9524320649612\n",
      "Starting epoch: 34\n",
      "Epoch 34 ended with total avg. loss 3.8466315165737317\n",
      "Starting epoch: 35\n",
      "Epoch 35 ended with total avg. loss 3.7756560403320263\n",
      "Starting epoch: 36\n",
      "Epoch 36 ended with total avg. loss 3.73895806694249\n",
      "Starting epoch: 37\n",
      "Epoch 37 ended with total avg. loss 3.6765695763554893\n",
      "Starting epoch: 38\n",
      "Epoch 38 ended with total avg. loss 3.629263909250132\n",
      "Starting epoch: 39\n",
      "Epoch 39 ended with total avg. loss 3.5892500784206307\n",
      "Starting epoch: 40\n",
      "Epoch 40 ended with total avg. loss 3.561014916723339\n",
      "Starting epoch: 41\n",
      "Epoch 41 ended with total avg. loss 3.5329896671608907\n",
      "Starting epoch: 42\n",
      "Epoch 42 ended with total avg. loss 3.5142559165309164\n",
      "Starting epoch: 43\n",
      "Epoch 43 ended with total avg. loss 3.5030562094360533\n",
      "Starting epoch: 44\n",
      "Epoch 44 ended with total avg. loss 3.485624576086664\n",
      "Starting epoch: 45\n",
      "Epoch 45 ended with total avg. loss 3.4726565128903086\n",
      "Starting epoch: 46\n",
      "Epoch 46 ended with total avg. loss 3.463260869225924\n",
      "Starting epoch: 47\n",
      "Epoch 47 ended with total avg. loss 3.4552286292378227\n",
      "Starting epoch: 48\n",
      "Epoch 48 ended with total avg. loss 3.4496925131276663\n",
      "Starting epoch: 49\n",
      "Epoch 49 ended with total avg. loss 3.4451395469153163\n",
      "Starting epoch: 50\n",
      "Epoch 50 ended with total avg. loss 3.442755765938511\n",
      "Starting epoch: 51\n",
      "Epoch 51 ended with total avg. loss 3.439962298403328\n",
      "Starting epoch: 52\n",
      "Epoch 52 ended with total avg. loss 3.4399571785874024\n",
      "Starting epoch: 53\n",
      "Epoch 53 ended with total avg. loss 3.440705268012657\n",
      "Starting epoch: 54\n",
      "Epoch 54 ended with total avg. loss 3.4403804595544853\n",
      "Starting epoch: 55\n",
      "Epoch 55 ended with total avg. loss 3.4424919988276708\n",
      "Starting epoch: 56\n",
      "Epoch 56 ended with total avg. loss 3.4446755750776727\n",
      "Starting epoch: 57\n",
      "Epoch 57 ended with total avg. loss 3.4468221286185408\n",
      "Starting epoch: 58\n",
      "Epoch 58 ended with total avg. loss 3.4488938898205195\n",
      "Starting epoch: 59\n",
      "Epoch 59 ended with total avg. loss 3.450840222487643\n",
      "Starting epoch: 60\n",
      "Epoch 60 ended with total avg. loss 3.4526192536432867\n",
      "Starting epoch: 61\n",
      "Epoch 61 ended with total avg. loss 3.4542547717971552\n",
      "Starting epoch: 62\n",
      "Epoch 62 ended with total avg. loss 3.455778084809773\n",
      "Starting epoch: 63\n",
      "Epoch 63 ended with total avg. loss 3.4570945523507612\n",
      "Starting epoch: 64\n",
      "Epoch 64 ended with total avg. loss 3.4583068759781113\n",
      "Starting epoch: 65\n",
      "Epoch 65 ended with total avg. loss 3.459222834549679\n",
      "Starting epoch: 66\n",
      "Epoch 66 ended with total avg. loss 3.460046895490977\n",
      "Starting epoch: 67\n",
      "Epoch 67 ended with total avg. loss 3.460748619982557\n",
      "Starting epoch: 68\n",
      "Epoch 68 ended with total avg. loss 3.4613425012244323\n",
      "Starting epoch: 69\n",
      "Epoch 69 ended with total avg. loss 3.4618358824111652\n",
      "Starting epoch: 70\n",
      "Epoch 70 ended with total avg. loss 3.462249673942875\n",
      "Starting epoch: 71\n",
      "Epoch 71 ended with total avg. loss 3.462603467291279\n",
      "Starting epoch: 72\n",
      "Epoch 72 ended with total avg. loss 3.462872424162533\n",
      "Starting epoch: 73\n",
      "Epoch 73 ended with total avg. loss 3.4630828997834597\n",
      "Starting epoch: 74\n",
      "Epoch 74 ended with total avg. loss 3.4632453991562984\n",
      "Starting epoch: 75\n",
      "Epoch 75 ended with total avg. loss 3.4633562469472943\n",
      "Starting epoch: 76\n",
      "Epoch 76 ended with total avg. loss 3.463434991331315\n",
      "Starting epoch: 77\n",
      "Epoch 77 ended with total avg. loss 3.4634780742950766\n",
      "Starting epoch: 78\n",
      "Epoch 78 ended with total avg. loss 3.463502404053597\n",
      "Starting epoch: 79\n",
      "Epoch 79 ended with total avg. loss 3.463505915217181\n",
      "Starting epoch: 80\n",
      "Epoch 80 ended with total avg. loss 3.4634923536918993\n",
      "Starting epoch: 81\n",
      "Epoch 81 ended with total avg. loss 3.463465409327095\n",
      "Starting epoch: 82\n",
      "Epoch 82 ended with total avg. loss 3.4634253512693607\n",
      "Starting epoch: 83\n",
      "Epoch 83 ended with total avg. loss 3.4633863982612105\n",
      "Starting epoch: 84\n",
      "Epoch 84 ended with total avg. loss 3.463337002983444\n",
      "Starting epoch: 85\n",
      "Epoch 85 ended with total avg. loss 3.4632853662265464\n",
      "Starting epoch: 86\n",
      "Epoch 86 ended with total avg. loss 3.4632312483744583\n",
      "Starting epoch: 87\n",
      "Epoch 87 ended with total avg. loss 3.46317485290637\n",
      "Starting epoch: 88\n",
      "Epoch 88 ended with total avg. loss 3.46312051546706\n",
      "Starting epoch: 89\n",
      "Epoch 89 ended with total avg. loss 3.4630623980870783\n"
     ]
    }
   ],
   "source": [
    "xs, ys = train(linnet, lin_optim, lin_loss, lin_scheduler, train_x, train_y, valid_x, valid_y, 90, 200)"
   ]
  },
  {
   "cell_type": "code",
   "execution_count": 28,
   "metadata": {},
   "outputs": [
    {
     "data": {
      "text/plain": [
       "[<matplotlib.lines.Line2D at 0x7fc6c3eed190>]"
      ]
     },
     "execution_count": 28,
     "metadata": {},
     "output_type": "execute_result"
    },
    {
     "data": {
      "image/png": "[encoded data removed]",
      "text/plain": [
       "<Figure size 432x288 with 1 Axes>"
      ]
     },
     "metadata": {
      "needs_background": "light"
     },
     "output_type": "display_data"
    }
   ],
   "source": [
    "plt.plot(xs,[y.item() for y in ys])"
   ]
  },
  {
   "cell_type": "code",
   "execution_count": 31,
   "metadata": {},
   "outputs": [
    {
     "data": {
      "image/png": "[encoded data removed]",
      "text/plain": [
       "<Figure size 432x288 with 1 Axes>"
      ]
     },
     "metadata": {
      "needs_background": "light"
     },
     "output_type": "display_data"
    }
   ],
   "source": [
    "test(linnet, test_x, test_y)"
   ]
  },
  {
   "cell_type": "code",
   "execution_count": 29,
   "metadata": {},
   "outputs": [],
   "source": [
    "torch.save(neural.state_dict(), \"linear_trained.pth\")"
   ]
  }
 ],
 "metadata": {
  "colab": {
   "collapsed_sections": [],
   "name": "COMP562.ipynb",
   "provenance": []
  },
  "kernelspec": {
   "display_name": "Python 3 (ipykernel)",
   "language": "python",
   "name": "python3"
  },
  "language_info": {
   "codemirror_mode": {
    "name": "ipython",
    "version": 3
   },
   "file_extension": ".py",
   "mimetype": "text/x-python",
   "name": "python",
   "nbconvert_exporter": "python",
   "pygments_lexer": "ipython3",
   "version": "3.8.12"
  },
  "name": "COMP562.ipynb"
 },
 "nbformat": 4,
 "nbformat_minor": 1
}
